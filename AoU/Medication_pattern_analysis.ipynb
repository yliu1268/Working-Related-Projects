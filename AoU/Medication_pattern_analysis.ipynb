{
 "cells": [
  {
   "cell_type": "code",
   "execution_count": null,
   "metadata": {},
   "outputs": [],
   "source": [
    "## Top 4 U.S. DEA controlled substances\n",
    "##   codein, fentanyl, morphine, and oxycodone"
   ]
  },
  {
   "cell_type": "code",
   "execution_count": null,
   "metadata": {},
   "outputs": [],
   "source": [
    "import pandas as pd\n",
    "import matplotlib.pyplot as plt"
   ]
  },
  {
   "cell_type": "code",
   "execution_count": null,
   "metadata": {},
   "outputs": [],
   "source": [
    "## store the linux environment variable WORKSPACE_CDE into a python variable DATASET\n",
    "##  Curated Data Repository (CDR)\n",
    "DATASET = %env WORKSPACE_CDR"
   ]
  },
  {
   "cell_type": "code",
   "execution_count": null,
   "metadata": {},
   "outputs": [],
   "source": [
    "## find the concept_id of the 'fentanyl' in 'Ingredient' class of 'RxNorm' vocabulary concept_id = 1154029\n",
    "input_sql = f'''\n",
    "SELECT c.concept_id, c.concept_name, c.vocabulary_id, c.concept_class_id\n",
    "FROM fc-aou-cdr-prod-ct.C2024Q3R5.concept c\n",
    "WHERE lower(c.concept_name) in ('codeine','dizzepam', 'fentanyl', 'morphine', 'oxycodone')\n",
    "  AND c.vocabulary_id = 'RxNorm' AND c.concept_class_id = 'Ingredient'\n",
    "'''\n",
    "\n",
    "df_ingridient = pd.read_gbq(input_sql)"
   ]
  },
  {
   "cell_type": "code",
   "execution_count": null,
   "metadata": {},
   "outputs": [],
   "source": [
    "## Find all drug exposure events in all drugs whose ingredient is in\n",
    "## ('codeine', 'fentanyl', 'morphine', 'oxycodone') with concept_id's\n",
    "## (1201620, 1154029, 1110410, 1124957) \n",
    "input_sql = f'''\n",
    "SELECT de.person_id, \n",
    "  ca.ancestor_concept_id AS drug_ingridient_concept_id,\n",
    "  de.drug_concept_id, \n",
    "  de.drug_exposure_start_datetime, \n",
    "  de.drug_exposure_end_datetime,\n",
    "  de.days_supply,\n",
    "  de.quantity\n",
    "FROM `{DATASET}.concept_ancestor` ca\n",
    " JOIN `{DATASET}.concept` c\n",
    "   ON ca.descendant_concept_id = c.concept_id\n",
    " JOIN `{DATASET}.drug_exposure` de\n",
    "   ON de.drug_concept_id = c.concept_id\n",
    "WHERE ca.ancestor_concept_id in (1201620, 1154029, 1110410, 1124957)               \n",
    "  AND c.domain_id = 'Drug'\n",
    "  AND c.invalid_reason IS NULL\n",
    "'''\n",
    "\n",
    "df_events = pd.read_gbq(input_sql)"
   ]
  },
  {
   "cell_type": "code",
   "execution_count": null,
   "metadata": {},
   "outputs": [],
   "source": [
    "## find the participant enrollment date (=primary consent date)\n",
    "input_sql = f'''\n",
    "SELECT DISTINCT person_id, MIN(observation_date) AS primary_consent_date\n",
    "    FROM `{DATASET}.concept`\n",
    "     JOIN `{DATASET}.concept_ancestor` on concept_id = ancestor_concept_id\n",
    "     JOIN `{DATASET}.observation` on descendant_concept_id = observation_source_concept_id\n",
    "    WHERE concept_name = 'Consent PII'\n",
    "      AND concept_class_id = 'Module'\n",
    "    GROUP BY 1\n",
    "'''\n",
    "df_consent = pd.read_gbq(input_sql)"
   ]
  },
  {
   "cell_type": "code",
   "execution_count": null,
   "metadata": {},
   "outputs": [],
   "source": [
    "## retrieve age at consent and demography\n",
    "input_sql = f'''\n",
    "SELECT p.person_id, p.sex_at_birth, p.race, p.age_at_consent,\n",
    "   p.state_of_residence\n",
    "  FROM `{DATASET}.cb_search_person` p\n",
    "'''\n",
    "df_search_person = pd.read_gbq(input_sql)"
   ]
  },
  {
   "cell_type": "code",
   "execution_count": null,
   "metadata": {},
   "outputs": [],
   "source": [
    "## join primary consent date with demography\n",
    "df_person = pd.merge(df_search_person, df_consent, on='person_id', how='inner')"
   ]
  },
  {
   "cell_type": "code",
   "execution_count": null,
   "metadata": {},
   "outputs": [],
   "source": [
    "## join drug events and person\n",
    "df_join = pd.merge(df_events, df_person, on='person_id', how='inner')\n",
    "[df_join['person_id'].nunique(), df_join.shape[0]] # count person, count events"
   ]
  },
  {
   "cell_type": "code",
   "execution_count": null,
   "metadata": {},
   "outputs": [],
   "source": [
    "## sort \n",
    "df_join.sort_values(by=['person_id', 'drug_exposure_start_datetime', 'drug_exposure_end_datetime'],\n",
    "                             ascending=[True, True, True], inplace=True)"
   ]
  },
  {
   "cell_type": "code",
   "execution_count": null,
   "metadata": {},
   "outputs": [],
   "source": [
    "## count tne missing values in column 'drug_exposure_end_datetime' and total row count\n",
    "[df_join['drug_exposure_end_datetime'].isnull().sum(), df_join.shape[0]]"
   ]
  },
  {
   "cell_type": "code",
   "execution_count": null,
   "metadata": {},
   "outputs": [],
   "source": [
    "## create a drug episode dataframe\n",
    "# Ensure datetime dtype and sort properly\n",
    "df = df_join.sort_values(['person_id', 'drug_exposure_start_datetime']).copy()\n",
    "\n",
    "# Gap between consecutive events per person (in days)\n",
    "g = df.groupby('person_id')\n",
    "df['gap_days'] = g['drug_exposure_start_datetime'].diff().dt.days\n",
    "\n",
    "# Start a new episode when the gap is >= 30 days (first event per person gets NaN -> treat as no new episode)\n",
    "df['new_episode'] = (df['gap_days'].fillna(0) >= 30).astype(int)\n",
    "\n",
    "# Cumulative sum within each person gives a episode index starting at 0\n",
    "df['drug_episode_id'] = g['new_episode'].transform('cumsum')\n",
    "\n",
    "# a 1-based label\n",
    "df['drug_episode_order'] = df['drug_episode_id'] + 1\n",
    "\n",
    "# Summaries per episode\n",
    "df_episode = (\n",
    "    df.groupby(['person_id', 'drug_episode_id'])\n",
    "      .agg(\n",
    "          drug_episode_start_datetime=('drug_exposure_start_datetime', 'min'),\n",
    "          drug_episode_end_datetime=('drug_exposure_start_datetime', 'max'),\n",
    "          n_events=('drug_exposure_start_datetime', 'size')\n",
    "      )\n",
    "      .assign(drug_episode_span_days=lambda x: (x['drug_episode_end_datetime'] - x['drug_episode_start_datetime']).dt.days)\n",
    "      .reset_index()\n",
    ")"
   ]
  },
  {
   "cell_type": "code",
   "execution_count": null,
   "metadata": {},
   "outputs": [],
   "source": [
    "df_episode['drug_episode_span_days'].describe()"
   ]
  },
  {
   "cell_type": "code",
   "execution_count": null,
   "metadata": {},
   "outputs": [],
   "source": [
    "## dipslay the number of episodes and unique patients with span days > 1 year\n",
    "[ df_episode.loc[df_episode['drug_episode_span_days'] > (365*1)].shape[0],\n",
    "  df_episode.loc[df_episode['drug_episode_span_days'] > (365*1)]['person_id'].nunique() ]"
   ]
  },
  {
   "cell_type": "code",
   "execution_count": null,
   "metadata": {},
   "outputs": [],
   "source": [
    "## dipslay the number of episodes and unique patients with span days > 2 years\n",
    "[ df_episode.loc[df_episode['drug_episode_span_days'] > (365*2)].shape[0],\n",
    "  df_episode.loc[df_episode['drug_episode_span_days'] > (365*2)]['person_id'].nunique() ]"
   ]
  },
  {
   "cell_type": "code",
   "execution_count": null,
   "metadata": {},
   "outputs": [],
   "source": [
    "df_join['person_id'].nunique()"
   ]
  },
  {
   "cell_type": "code",
   "execution_count": null,
   "metadata": {},
   "outputs": [],
   "source": [
    "df_episode.head()"
   ]
  },
  {
   "cell_type": "code",
   "execution_count": null,
   "metadata": {},
   "outputs": [],
   "source": [
    "df_join['drug_concept_id'].nunique()"
   ]
  },
  {
   "cell_type": "code",
   "execution_count": null,
   "metadata": {},
   "outputs": [],
   "source": []
  }
 ],
 "metadata": {
  "kernelspec": {
   "display_name": "Python 3",
   "language": "python",
   "name": "python3"
  },
  "language_info": {
   "codemirror_mode": {
    "name": "ipython",
    "version": 3
   },
   "file_extension": ".py",
   "mimetype": "text/x-python",
   "name": "python",
   "nbconvert_exporter": "python",
   "pygments_lexer": "ipython3",
   "version": "3.10.16"
  },
  "toc": {
   "base_numbering": 1,
   "nav_menu": {},
   "number_sections": true,
   "sideBar": true,
   "skip_h1_title": false,
   "title_cell": "Table of Contents",
   "title_sidebar": "Contents",
   "toc_cell": false,
   "toc_position": {},
   "toc_section_display": true,
   "toc_window_display": false
  }
 },
 "nbformat": 4,
 "nbformat_minor": 2
}
